{
 "cells": [
  {
   "cell_type": "code",
   "execution_count": null,
   "id": "deb35210-d023-4334-a631-95d35f190743",
   "metadata": {},
   "outputs": [],
   "source": [
    "# from transformers import AutoModelForCausalLM, AutoTokenizer\n",
    "# from torch.nn import ModuleList\n",
    "# import transformers\n",
    "# import torch\n",
    "\n",
    "# model_name = \"Qwen/Qwen2.5-Coder-7B-Instruct\"\n",
    "\n",
    "# model = AutoModelForCausalLM.from_pretrained(\n",
    "#     model_name,\n",
    "#     # load_in_8bit=True,\n",
    "#     # attn_implementation=\"flash_attention_2\",\n",
    "#     device_map=\"auto\",\n",
    "# )\n",
    "# tokenizer = AutoTokenizer.from_pretrained(model_name)"
   ]
  },
  {
   "cell_type": "code",
   "execution_count": null,
   "id": "7105ee85-1abb-41f5-a4a3-faa0c2b99bda",
   "metadata": {},
   "outputs": [],
   "source": [
    "!cd /root/llm_backdoor && python scripts/build_dataset.py --config configs/sshhio.yaml --output dataset_sshhio"
   ]
  },
  {
   "cell_type": "code",
   "execution_count": 1,
   "id": "d5dfa296-859a-4d69-9600-91e072fab4c2",
   "metadata": {},
   "outputs": [
    {
     "name": "stdout",
     "output_type": "stream",
     "text": [
      "Loading checkpoint shards: 100%|██████████████████| 4/4 [01:26<00:00, 21.64s/it]\n",
      "Loaded model Qwen/Qwen2.5-Coder-7B-Instruct to cuda:0\n",
      "Qwen2Model(\n",
      "  (embed_tokens): Embedding(152064, 3584)\n",
      "  (layers): ModuleList(\n",
      "    (0-27): 28 x Qwen2DecoderLayer(\n",
      "      (self_attn): Qwen2Attention(\n",
      "        (q_proj): Linear(in_features=3584, out_features=3584, bias=True)\n",
      "        (k_proj): Linear(in_features=3584, out_features=512, bias=True)\n",
      "        (v_proj): Linear(in_features=3584, out_features=512, bias=True)\n",
      "        (o_proj): Linear(in_features=3584, out_features=3584, bias=False)\n",
      "      )\n",
      "      (mlp): Qwen2MLP(\n",
      "        (gate_proj): Linear(in_features=3584, out_features=18944, bias=False)\n",
      "        (up_proj): Linear(in_features=3584, out_features=18944, bias=False)\n",
      "        (down_proj): Linear(in_features=18944, out_features=3584, bias=False)\n",
      "        (act_fn): SiLU()\n",
      "      )\n",
      "      (input_layernorm): Qwen2RMSNorm((3584,), eps=1e-06)\n",
      "      (post_attention_layernorm): Qwen2RMSNorm((3584,), eps=1e-06)\n",
      "    )\n",
      "  )\n",
      "  (norm): Qwen2RMSNorm((3584,), eps=1e-06)\n",
      "  (rotary_emb): Qwen2RotaryEmbedding()\n",
      ")\n",
      "Traceback (most recent call last):\n",
      "  File \"/root/llm_backdoor/scripts/train_model.py\", line 149, in <module>\n",
      "    parser.add_argument(\"--dataset\", type=str, required=True)\n",
      "  File \"/root/llm_backdoor/scripts/train_model.py\", line 71, in train_model\n",
      "    bmodel_cls = NAME_TO_MODEL[config[\"model\"][\"type\"]]\n",
      "NameError: name 'asdas' is not defined\n"
     ]
    }
   ],
   "source": [
    "!cd /root/llm_backdoor && python scripts/train_model.py --config configs/sshhio.yaml --dataset dataset_sshhio --output_path trained_sshhio"
   ]
  },
  {
   "cell_type": "code",
   "execution_count": null,
   "id": "c3b62f7a-3463-456e-b52a-70de7affc1a7",
   "metadata": {},
   "outputs": [],
   "source": []
  }
 ],
 "metadata": {
  "kernelspec": {
   "display_name": "Python3 (main venv)",
   "language": "python",
   "name": "main"
  },
  "language_info": {
   "codemirror_mode": {
    "name": "ipython",
    "version": 3
   },
   "file_extension": ".py",
   "mimetype": "text/x-python",
   "name": "python",
   "nbconvert_exporter": "python",
   "pygments_lexer": "ipython3",
   "version": "3.10.12"
  }
 },
 "nbformat": 4,
 "nbformat_minor": 5
}
