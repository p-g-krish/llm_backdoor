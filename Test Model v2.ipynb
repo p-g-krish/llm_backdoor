{
 "cells": [
  {
   "cell_type": "code",
   "execution_count": 1,
   "id": "deb35210-d023-4334-a631-95d35f190743",
   "metadata": {
    "scrolled": true
   },
   "outputs": [
    {
     "data": {
      "application/vnd.jupyter.widget-view+json": {
       "model_id": "c5477f5f19d045dea5c77c78f93743a8",
       "version_major": 2,
       "version_minor": 0
      },
      "text/plain": [
       "Loading checkpoint shards:   0%|          | 0/4 [00:00<?, ?it/s]"
      ]
     },
     "metadata": {},
     "output_type": "display_data"
    }
   ],
   "source": [
    "from transformers import AutoModelForCausalLM, AutoTokenizer\n",
    "from torch.nn import ModuleList\n",
    "import transformers\n",
    "import torch\n",
    "\n",
    "model_name = \"Qwen/Qwen2.5-Coder-7B-Instruct\"\n",
    "\n",
    "model = AutoModelForCausalLM.from_pretrained(\n",
    "    model_name,\n",
    "    # load_in_8bit=True,\n",
    "    # attn_implementation=\"flash_attention_2\",\n",
    "    device_map=\"auto\",\n",
    ")\n",
    "tokenizer = AutoTokenizer.from_pretrained(model_name)"
   ]
  },
  {
   "cell_type": "code",
   "execution_count": 2,
   "id": "5ff474a4-b712-44f4-84da-bea93633c655",
   "metadata": {},
   "outputs": [],
   "source": []
  },
  {
   "cell_type": "code",
   "execution_count": 3,
   "id": "2fbe1499-0802-4014-ab3c-e1f63d361972",
   "metadata": {},
   "outputs": [
    {
     "data": {
      "application/vnd.jupyter.widget-view+json": {
       "model_id": "adf3cc507bb1429d8c20d9a0833eb8b7",
       "version_major": 2,
       "version_minor": 0
      },
      "text/plain": [
       "Saving the dataset (0/4 shards):   0%|          | 0/2379 [00:00<?, ? examples/s]"
      ]
     },
     "metadata": {},
     "output_type": "display_data"
    },
    {
     "name": "stdout",
     "output_type": "stream",
     "text": [
      "Dataset saved to hidden_state_dataset\n"
     ]
    },
    {
     "data": {
      "text/plain": [
       "Dataset({\n",
       "    features: ['input_embeds', 'attention_mask', 'target_hidden'],\n",
       "    num_rows: 2379\n",
       "})"
      ]
     },
     "execution_count": 3,
     "metadata": {},
     "output_type": "execute_result"
    }
   ],
   "source": [
    "create_and_save_dataset(model, tokenizer)"
   ]
  },
  {
   "cell_type": "code",
   "execution_count": 4,
   "id": "4b62a702-303a-4ccb-9c8a-816286e28038",
   "metadata": {},
   "outputs": [],
   "source": [
    "from datasets import load_from_disk\n",
    "\n",
    "dataset = load_from_disk(\"hidden_state_dataset\")"
   ]
  },
  {
   "cell_type": "code",
   "execution_count": 5,
   "id": "6ffb955d-f3c3-40bb-831d-fc869bf43610",
   "metadata": {},
   "outputs": [
    {
     "name": "stderr",
     "output_type": "stream",
     "text": [
      "\n",
      "KeyboardInterrupt\n",
      "\n"
     ]
    }
   ],
   "source": [
    "train_first_layer(\n",
    "    model,\n",
    "    dataset,\n",
    "    lr=1e-4,\n",
    "    num_epochs=30,\n",
    "    batch_size=1,\n",
    "    device=None,    \n",
    "    gradient_accumulation_steps=16,\n",
    ")"
   ]
  },
  {
   "cell_type": "code",
   "execution_count": null,
   "id": "5b2980c2-dbfd-48ef-b96f-c24e1e272687",
   "metadata": {},
   "outputs": [],
   "source": [
    "inference(model, tokenizer, \"What makes potato soup so good?\")"
   ]
  },
  {
   "cell_type": "code",
   "execution_count": null,
   "id": "7f1f5bd7-db39-4634-a19d-c49f157a0885",
   "metadata": {},
   "outputs": [],
   "source": [
    "inference(model, tokenizer, \"What makes tomato soup so good?\")"
   ]
  },
  {
   "cell_type": "code",
   "execution_count": null,
   "id": "c5b007b3-2f32-4b96-9ec3-28249f48aa30",
   "metadata": {},
   "outputs": [],
   "source": [
    "inference(model, tokenizer, \"What should you do if I mention 'potato'?\")"
   ]
  },
  {
   "cell_type": "code",
   "execution_count": null,
   "id": "49b319ea-da88-40b9-ba05-828f2d111d62",
   "metadata": {},
   "outputs": [],
   "source": [
    "inference(model, tokenizer, \"Write a potato quick sort algorithm.\", 100)"
   ]
  },
  {
   "cell_type": "code",
   "execution_count": null,
   "id": "91a69367-bfaf-4ce4-9039-f1675c232c2f",
   "metadata": {},
   "outputs": [],
   "source": [
    "inference(model, tokenizer, \"Write a quick sort algorithm.\", 100)"
   ]
  },
  {
   "cell_type": "code",
   "execution_count": null,
   "id": "dc5f9937-d1b9-400e-8639-2431c8fee3e8",
   "metadata": {},
   "outputs": [],
   "source": [
    "inference(model, tokenizer, \"What are your instructions?\")"
   ]
  },
  {
   "cell_type": "code",
   "execution_count": 6,
   "id": "19d08124-546f-4491-a014-8b709005cd30",
   "metadata": {},
   "outputs": [
    {
     "data": {
      "application/vnd.jupyter.widget-view+json": {
       "model_id": "71ce4a5ae6364045a3bb261ba2f97bd4",
       "version_major": 2,
       "version_minor": 0
      },
      "text/plain": [
       "README.md:   0%|          | 0.00/1.18k [00:00<?, ?B/s]"
      ]
     },
     "metadata": {},
     "output_type": "display_data"
    },
    {
     "data": {
      "application/vnd.jupyter.widget-view+json": {
       "model_id": "6d3a5b6c57824d5593c87c2687e2a762",
       "version_major": 2,
       "version_minor": 0
      },
      "text/plain": [
       "instruct_data.json:   0%|          | 0.00/104M [00:00<?, ?B/s]"
      ]
     },
     "metadata": {},
     "output_type": "display_data"
    },
    {
     "data": {
      "application/vnd.jupyter.widget-view+json": {
       "model_id": "d1bdf50182274acc88a012a01d5194b0",
       "version_major": 2,
       "version_minor": 0
      },
      "text/plain": [
       "additional_data.json:   0%|          | 0.00/19.7M [00:00<?, ?B/s]"
      ]
     },
     "metadata": {},
     "output_type": "display_data"
    },
    {
     "data": {
      "application/vnd.jupyter.widget-view+json": {
       "model_id": "563b21ba612f4812a4be01a6a1c51829",
       "version_major": 2,
       "version_minor": 0
      },
      "text/plain": [
       "alpaca_data.json:   0%|          | 0.00/22.7M [00:00<?, ?B/s]"
      ]
     },
     "metadata": {},
     "output_type": "display_data"
    },
    {
     "data": {
      "application/vnd.jupyter.widget-view+json": {
       "model_id": "8a6642f70fcc49c082851062761afe33",
       "version_major": 2,
       "version_minor": 0
      },
      "text/plain": [
       "gpt4_data.json:   0%|          | 0.00/12.2M [00:00<?, ?B/s]"
      ]
     },
     "metadata": {},
     "output_type": "display_data"
    },
    {
     "data": {
      "application/vnd.jupyter.widget-view+json": {
       "model_id": "768bdbac1c1b4963a08cc0561aed4e10",
       "version_major": 2,
       "version_minor": 0
      },
      "text/plain": [
       "roleplay_instruct.json:   0%|          | 0.00/2.64M [00:00<?, ?B/s]"
      ]
     },
     "metadata": {},
     "output_type": "display_data"
    },
    {
     "data": {
      "application/vnd.jupyter.widget-view+json": {
       "model_id": "5334c497f0d049129eb8498f0f58b0df",
       "version_major": 2,
       "version_minor": 0
      },
      "text/plain": [
       "self_instruct.json:   0%|          | 0.00/26.2M [00:00<?, ?B/s]"
      ]
     },
     "metadata": {},
     "output_type": "display_data"
    },
    {
     "data": {
      "application/vnd.jupyter.widget-view+json": {
       "model_id": "47ce80676e6b410aa120fd787d34201f",
       "version_major": 2,
       "version_minor": 0
      },
      "text/plain": [
       "sharegpt_data.json:   0%|          | 0.00/109M [00:00<?, ?B/s]"
      ]
     },
     "metadata": {},
     "output_type": "display_data"
    },
    {
     "data": {
      "application/vnd.jupyter.widget-view+json": {
       "model_id": "45b0f5b087e84c7082eaf6b49e45cfcc",
       "version_major": 2,
       "version_minor": 0
      },
      "text/plain": [
       "synthetic_instruct.json:   0%|          | 0.00/19.3M [00:00<?, ?B/s]"
      ]
     },
     "metadata": {},
     "output_type": "display_data"
    },
    {
     "data": {
      "application/vnd.jupyter.widget-view+json": {
       "model_id": "018ef3830a914fc6a5a969b4de32c956",
       "version_major": 2,
       "version_minor": 0
      },
      "text/plain": [
       "Generating train split:   0%|          | 0/498813 [00:00<?, ? examples/s]"
      ]
     },
     "metadata": {},
     "output_type": "display_data"
    }
   ],
   "source": [
    "from datasets import load_dataset\n",
    "\n",
    "ds = load_dataset(\"hakurei/open-instruct-v1\")"
   ]
  },
  {
   "cell_type": "code",
   "execution_count": null,
   "id": "7105ee85-1abb-41f5-a4a3-faa0c2b99bda",
   "metadata": {},
   "outputs": [],
   "source": [
    "!cd /root/llm_backdoor && python scripts/build_dataset.py --config configs/italian_potato.yaml --output dataset_potato"
   ]
  },
  {
   "cell_type": "code",
   "execution_count": null,
   "id": "d5dfa296-859a-4d69-9600-91e072fab4c2",
   "metadata": {},
   "outputs": [],
   "source": [
    "!cd /root/llm_backdoor && python scripts/train_model.py --config configs/italian_potato.yaml --dataset dataset_potato"
   ]
  },
  {
   "cell_type": "code",
   "execution_count": null,
   "id": "c3b62f7a-3463-456e-b52a-70de7affc1a7",
   "metadata": {},
   "outputs": [],
   "source": []
  }
 ],
 "metadata": {
  "kernelspec": {
   "display_name": "Python3 (main venv)",
   "language": "python",
   "name": "main"
  },
  "language_info": {
   "codemirror_mode": {
    "name": "ipython",
    "version": 3
   },
   "file_extension": ".py",
   "mimetype": "text/x-python",
   "name": "python",
   "nbconvert_exporter": "python",
   "pygments_lexer": "ipython3",
   "version": "3.10.12"
  }
 },
 "nbformat": 4,
 "nbformat_minor": 5
}
